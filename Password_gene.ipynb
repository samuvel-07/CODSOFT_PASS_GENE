{
  "nbformat": 4,
  "nbformat_minor": 0,
  "metadata": {
    "colab": {
      "provenance": [],
      "authorship_tag": "ABX9TyOheTeEwMxyt1P2jRemXHdD",
      "include_colab_link": true
    },
    "kernelspec": {
      "name": "python3",
      "display_name": "Python 3"
    },
    "language_info": {
      "name": "python"
    }
  },
  "cells": [
    {
      "cell_type": "markdown",
      "metadata": {
        "id": "view-in-github",
        "colab_type": "text"
      },
      "source": [
        "<a href=\"https://colab.research.google.com/github/samuvel-07/CODSOFT_PASS_GENE/blob/main/Password_gene.ipynb\" target=\"_parent\"><img src=\"https://colab.research.google.com/assets/colab-badge.svg\" alt=\"Open In Colab\"/></a>"
      ]
    },
    {
      "cell_type": "code",
      "execution_count": 3,
      "metadata": {
        "colab": {
          "base_uri": "https://localhost:8080/"
        },
        "collapsed": true,
        "id": "tC0D_NhDN9Lt",
        "outputId": "38691896-3dc1-4357-c6d5-27297a7a4053"
      },
      "outputs": [
        {
          "output_type": "stream",
          "name": "stdout",
          "text": [
            "Welcome to the Password Generator!\n",
            "Enter the desired password length: 3\n",
            "Password length should be at least 4 characters for security.\n"
          ]
        }
      ],
      "source": [
        "import random\n",
        "import string\n",
        "\n",
        "def generate_password(length):\n",
        "    # Define possible characters\n",
        "    characters = string.ascii_letters + string.digits + string.punctuation\n",
        "\n",
        "    # Generate a random password\n",
        "    password = ''.join(random.choice(characters) for _ in range(length))\n",
        "    return password\n",
        "\n",
        "def main():\n",
        "    print(\"Welcome to the Password Generator!\")\n",
        "\n",
        "    # Ask the user for password length\n",
        "    try:\n",
        "        length = int(input(\"Enter the desired password length: \"))\n",
        "        if length < 4:\n",
        "            print(\"Password length should be at least 4 characters for security.\")\n",
        "            return\n",
        "    except ValueError:\n",
        "        print(\"Please enter a valid number.\")\n",
        "        return\n",
        "\n",
        "    # Generate password\n",
        "    password = generate_password(length)\n",
        "\n",
        "    # Display the password\n",
        "    print(f\"\\nYour generated password is: {password}\")\n",
        "\n",
        "if __name__ == \"__main__\":\n",
        "    main()\n"
      ]
    }
  ]
}